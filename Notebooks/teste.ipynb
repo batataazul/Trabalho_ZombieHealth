{
 "cells": [
  {
   "cell_type": "code",
   "execution_count": 11,
   "metadata": {},
   "outputs": [],
   "source": [
    "public interface Icontador {\n",
    "\tpublic int conta_porcentagem();\n",
    "\t\t/* Recebe a matriz de sintomas e devolve a posição do sintoma que tem a maior\n",
    "\t\t * ou menor diferença entre existir e não existir dentre os sintomas que ainda \n",
    "\t\t * não foram perguntados\n",
    "\t\t */\n",
    "\t\n",
    "}"
   ]
  },
  {
   "cell_type": "code",
   "execution_count": 13,
   "metadata": {},
   "outputs": [
    {
     "name": "stdout",
     "output_type": "stream",
     "text": [
      "Batata\n"
     ]
    },
    {
     "data": {
      "text/plain": [
       "0"
      ]
     },
     "execution_count": 13,
     "metadata": {},
     "output_type": "execute_result"
    }
   ],
   "source": [
    "public class ContaMetade implements Icontador {\n",
    "\tpublic int conta_porcentagem() {\n",
    "\t\tSystem.out.println(\"Batata\");\n",
    "        return 0;\n",
    "\t}\n",
    "}\n",
    "Icontador batata = new ContaMetade();\n",
    "batata.conta_porcentagem();"
   ]
  },
  {
   "cell_type": "code",
   "execution_count": 8,
   "metadata": {},
   "outputs": [],
   "source": [
    "public int melhorPergunta(String[][] sintomas) {\n",
    "\t\tint melhor = 0;\n",
    "\t\tint verdadeiros, verdadeirosMelhor = sintomas.length;\n",
    "\t\tint falsos, falsosMelhor = 0;\n",
    "\t\tfor (int j = 0; j < sintomas[0].length;j++) {\n",
    "            verdadeiros = 0;\n",
    "            falsos = 0;\n",
    "\t\t\tfor (int i = 0; i < sintomas.length;i++) {\n",
    "\t\t\t\tif (sintomas[i][j].equals(\"t\"))\n",
    "\t\t\t\t\tverdadeiros++;\n",
    "\t\t\t\telse\n",
    "\t\t\t\t\tfalsos++;\n",
    "\t\t\t}\n",
    "         /*   System.out.println(\"j:\" + j);\n",
    "            System.out.println(\"Verdadeiros: \" + verdadeiros);\n",
    "            System.out.println(\"falsos: \" + falsos);*/\n",
    "\t\t\tif (Math.abs(verdadeiros - falsos) < Math.abs(verdadeirosMelhor - falsosMelhor)){\n",
    "\t\t\t\tmelhor = j;\n",
    "\t\t\t\tverdadeirosMelhor = verdadeiros;\n",
    "\t\t\t\tfalsosMelhor = falsos;\n",
    "\t\t\t}\n",
    "\t\t}\n",
    "\t\treturn melhor;\n",
    "\t}"
   ]
  },
  {
   "cell_type": "code",
   "execution_count": 9,
   "metadata": {},
   "outputs": [
    {
     "name": "stdout",
     "output_type": "stream",
     "text": [
      "1\n"
     ]
    }
   ],
   "source": [
    "String[][] sintomas = {{\"t\",\"f\",\"f\",\"f\"},{\"t\",\"t\",\"t\",\"f\"},{\"t\",\"f\",\"t\",\"f\"},{\"t\",\"t\",\"t\",\"f\"}};\n",
    "System.out.println(melhorPergunta(sintomas));"
   ]
  }
 ],
 "metadata": {
  "kernelspec": {
   "display_name": "Java",
   "language": "java",
   "name": "java"
  },
  "language_info": {
   "codemirror_mode": "java",
   "file_extension": ".java",
   "mimetype": "text/x-java-source",
   "name": "Java",
   "pygments_lexer": "java",
   "version": "11.0.2+9-Ubuntu-3ubuntu118.04.3"
  }
 },
 "nbformat": 4,
 "nbformat_minor": 2
}
